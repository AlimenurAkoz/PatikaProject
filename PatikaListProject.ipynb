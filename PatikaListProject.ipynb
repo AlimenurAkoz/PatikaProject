{
 "cells": [
  {
   "cell_type": "code",
   "execution_count": 5,
   "id": "8e722fee-af3b-426c-bfa0-b130694c3cb2",
   "metadata": {},
   "outputs": [
    {
     "data": {
      "text/plain": [
       "[[1, 'a', ['cat'], 2], [[[3]], 'dog'], 4, 5, [9, 0, 7, 2, [6, 8]]]"
      ]
     },
     "execution_count": 5,
     "metadata": {},
     "output_type": "execute_result"
    }
   ],
   "source": [
    "my_list = [[1,'a',['cat'],2],[[[3]],'dog'],4,5,[9,0,7,2,[6,8]]]\n",
    "my_list"
   ]
  },
  {
   "cell_type": "code",
   "execution_count": 8,
   "id": "b6112731-b22b-4871-bf0d-3d885d52d22c",
   "metadata": {},
   "outputs": [
    {
     "name": "stdout",
     "output_type": "stream",
     "text": [
      "[1, 'a', 'cat', 2, 3, 'dog', 4, 5, 9, 0, 7, 2, 6, 8]\n"
     ]
    }
   ],
   "source": [
    "#Bir listeyi düzleştiren (flatten) fonksiyon:\n",
    "def flatten(x):\n",
    "    flattened_list=[]\n",
    "    for i in x:\n",
    "        if type(i) == list:\n",
    "            flattened_list.extend(flatten(i))\n",
    "        else:\n",
    "            flattened_list.append(i)\n",
    "    return flattened_list\n",
    "\n",
    "flattened_list = flatten(my_list)\n",
    "print(flattened_list)"
   ]
  },
  {
   "cell_type": "code",
   "execution_count": 22,
   "id": "a4ef53cb-1caa-4890-997f-edcc516c880d",
   "metadata": {},
   "outputs": [
    {
     "name": "stdout",
     "output_type": "stream",
     "text": [
      "[[[8, 6], 2, 7, 0, 9], 5, 4, ['god', [[3]]], [1, 'a', ['tac'], 2]]\n"
     ]
    }
   ],
   "source": [
    "#Verilen listenin içindeki elemanları tersine döndüren bir fonksiyon\n",
    "def reverse_list(x):\n",
    "    x.reverse()\n",
    "    for i in range(len(x)):\n",
    "        if type(x[i]) == list:\n",
    "            reverse_list(x[i])\n",
    "        elif type(x[i]) == str:\n",
    "            x[i] = x[i][::-1]\n",
    "\n",
    "reverse_list(my_list)\n",
    "print(my_list)"
   ]
  },
  {
   "cell_type": "code",
   "execution_count": null,
   "id": "3290a45a-220f-47ad-84ed-0fe2e442f066",
   "metadata": {},
   "outputs": [],
   "source": []
  }
 ],
 "metadata": {
  "kernelspec": {
   "display_name": "Python 3 (ipykernel)",
   "language": "python",
   "name": "python3"
  },
  "language_info": {
   "codemirror_mode": {
    "name": "ipython",
    "version": 3
   },
   "file_extension": ".py",
   "mimetype": "text/x-python",
   "name": "python",
   "nbconvert_exporter": "python",
   "pygments_lexer": "ipython3",
   "version": "3.12.4"
  }
 },
 "nbformat": 4,
 "nbformat_minor": 5
}
